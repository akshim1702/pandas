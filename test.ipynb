{
 "cells": [
  {
   "cell_type": "code",
   "execution_count": 19,
   "id": "a45d1d83",
   "metadata": {},
   "outputs": [],
   "source": [
    "import pandas as pd\n",
    "import os "
   ]
  },
  {
   "cell_type": "code",
   "execution_count": 20,
   "id": "a8c9dff5",
   "metadata": {},
   "outputs": [],
   "source": [
    "df_input = pd.read_csv(r'Input_log_file.csv')"
   ]
  },
  {
   "cell_type": "code",
   "execution_count": 21,
   "id": "cf5ae8ab",
   "metadata": {},
   "outputs": [],
   "source": [
    "df_search = pd.read_csv(r'Input_log_file.csv')"
   ]
  },
  {
   "cell_type": "code",
   "execution_count": 22,
   "id": "c8ee76a6",
   "metadata": {},
   "outputs": [],
   "source": [
    "df_search = df_search.astype(str)"
   ]
  },
  {
   "cell_type": "code",
   "execution_count": 23,
   "id": "d098c523",
   "metadata": {},
   "outputs": [],
   "source": [
    "df_search['search'] = df_search.loc[:, 'ID_1'] + \"_\"+df_search.loc[:, 'ID_2']+'_Masterfile.csv'\n",
    "unique_values = df_search.search.unique()"
   ]
  },
  {
   "cell_type": "code",
   "execution_count": 6,
   "id": "fa1411fe",
   "metadata": {},
   "outputs": [],
   "source": [
    "files = []\n",
    "path = os.getcwd()\n",
    "for filename in os.listdir(path):\n",
    "    if filename.endswith('.csv'):\n",
    "        files.append(filename)"
   ]
  },
  {
   "cell_type": "code",
   "execution_count": 24,
   "id": "38a986ac",
   "metadata": {},
   "outputs": [
    {
     "data": {
      "text/plain": [
       "array(['1_11_Masterfile.csv', '1_22_Masterfile.csv'], dtype=object)"
      ]
     },
     "execution_count": 24,
     "metadata": {},
     "output_type": "execute_result"
    }
   ],
   "source": [
    "unique_values"
   ]
  },
  {
   "cell_type": "code",
   "execution_count": 8,
   "id": "c1d2ddf1",
   "metadata": {},
   "outputs": [
    {
     "data": {
      "text/plain": [
       "['1_11_Masterfile.csv', '1_22_Masterfile.csv', 'Input_log_file.csv']"
      ]
     },
     "execution_count": 8,
     "metadata": {},
     "output_type": "execute_result"
    }
   ],
   "source": [
    "files"
   ]
  },
  {
   "cell_type": "code",
   "execution_count": 9,
   "id": "6b7e6c5d",
   "metadata": {},
   "outputs": [],
   "source": [
    "for i in unique_values:\n",
    "    if i in files and i[2:4] == '11':\n",
    "        df_master_1 = pd.read_csv(i)\n",
    "    elif i in files and i[2:4] == '22':\n",
    "        df_master_2 = pd.read_csv(i)"
   ]
  },
  {
   "cell_type": "code",
   "execution_count": 10,
   "id": "6fcd9819",
   "metadata": {},
   "outputs": [],
   "source": [
    "df_output_1 = df_input.merge(df_master_1, how = 'inner', on ='Dept')"
   ]
  },
  {
   "cell_type": "code",
   "execution_count": 11,
   "id": "8d67b139",
   "metadata": {},
   "outputs": [],
   "source": [
    "df_output_2 = df_input.merge(df_master_2, how = 'inner', on ='Dept')"
   ]
  },
  {
   "cell_type": "code",
   "execution_count": 12,
   "id": "7f80c51d",
   "metadata": {},
   "outputs": [],
   "source": [
    "result = pd.concat([df_output_1, df_output_2])"
   ]
  },
  {
   "cell_type": "code",
   "execution_count": 13,
   "id": "2451f621",
   "metadata": {},
   "outputs": [],
   "source": [
    "result.reset_index(drop=True, inplace=True)"
   ]
  },
  {
   "cell_type": "code",
   "execution_count": 14,
   "id": "e5d31031",
   "metadata": {},
   "outputs": [
    {
     "data": {
      "text/html": [
       "<div>\n",
       "<style scoped>\n",
       "    .dataframe tbody tr th:only-of-type {\n",
       "        vertical-align: middle;\n",
       "    }\n",
       "\n",
       "    .dataframe tbody tr th {\n",
       "        vertical-align: top;\n",
       "    }\n",
       "\n",
       "    .dataframe thead th {\n",
       "        text-align: right;\n",
       "    }\n",
       "</style>\n",
       "<table border=\"1\" class=\"dataframe\">\n",
       "  <thead>\n",
       "    <tr style=\"text-align: right;\">\n",
       "      <th></th>\n",
       "      <th>ID_1</th>\n",
       "      <th>ID_2</th>\n",
       "      <th>Name</th>\n",
       "      <th>Dept</th>\n",
       "      <th>Age</th>\n",
       "      <th>Dept_Name</th>\n",
       "    </tr>\n",
       "  </thead>\n",
       "  <tbody>\n",
       "    <tr>\n",
       "      <th>0</th>\n",
       "      <td>1</td>\n",
       "      <td>11</td>\n",
       "      <td>ABC</td>\n",
       "      <td>A</td>\n",
       "      <td>22</td>\n",
       "      <td>IT</td>\n",
       "    </tr>\n",
       "    <tr>\n",
       "      <th>1</th>\n",
       "      <td>1</td>\n",
       "      <td>11</td>\n",
       "      <td>XYZ</td>\n",
       "      <td>B</td>\n",
       "      <td>43</td>\n",
       "      <td>Finance</td>\n",
       "    </tr>\n",
       "    <tr>\n",
       "      <th>2</th>\n",
       "      <td>1</td>\n",
       "      <td>11</td>\n",
       "      <td>DEF</td>\n",
       "      <td>C</td>\n",
       "      <td>23</td>\n",
       "      <td>Marketing</td>\n",
       "    </tr>\n",
       "    <tr>\n",
       "      <th>3</th>\n",
       "      <td>1</td>\n",
       "      <td>11</td>\n",
       "      <td>WER</td>\n",
       "      <td>D</td>\n",
       "      <td>45</td>\n",
       "      <td>HR</td>\n",
       "    </tr>\n",
       "    <tr>\n",
       "      <th>4</th>\n",
       "      <td>1</td>\n",
       "      <td>22</td>\n",
       "      <td>QWE</td>\n",
       "      <td>E</td>\n",
       "      <td>42</td>\n",
       "      <td>Legal</td>\n",
       "    </tr>\n",
       "    <tr>\n",
       "      <th>5</th>\n",
       "      <td>1</td>\n",
       "      <td>22</td>\n",
       "      <td>ASD</td>\n",
       "      <td>R</td>\n",
       "      <td>11</td>\n",
       "      <td>Operations</td>\n",
       "    </tr>\n",
       "    <tr>\n",
       "      <th>6</th>\n",
       "      <td>1</td>\n",
       "      <td>22</td>\n",
       "      <td>ZXC</td>\n",
       "      <td>F</td>\n",
       "      <td>33</td>\n",
       "      <td>Network</td>\n",
       "    </tr>\n",
       "    <tr>\n",
       "      <th>7</th>\n",
       "      <td>1</td>\n",
       "      <td>22</td>\n",
       "      <td>WERT</td>\n",
       "      <td>G</td>\n",
       "      <td>88</td>\n",
       "      <td>Admin</td>\n",
       "    </tr>\n",
       "  </tbody>\n",
       "</table>\n",
       "</div>"
      ],
      "text/plain": [
       "   ID_1  ID_2  Name Dept  Age   Dept_Name\n",
       "0     1    11   ABC    A   22          IT\n",
       "1     1    11   XYZ    B   43     Finance\n",
       "2     1    11   DEF    C   23   Marketing\n",
       "3     1    11   WER    D   45          HR\n",
       "4     1    22   QWE    E   42       Legal\n",
       "5     1    22   ASD    R   11  Operations\n",
       "6     1    22   ZXC    F   33     Network\n",
       "7     1    22  WERT    G   88       Admin"
      ]
     },
     "execution_count": 14,
     "metadata": {},
     "output_type": "execute_result"
    }
   ],
   "source": [
    "result"
   ]
  },
  {
   "cell_type": "code",
   "execution_count": 15,
   "id": "c2b40e00",
   "metadata": {},
   "outputs": [
    {
     "name": "stdout",
     "output_type": "stream",
     "text": [
      "Input_log_file_output_report.csv\n"
     ]
    }
   ],
   "source": [
    "for i in files:\n",
    "    if 'Input' in i :\n",
    "        output_name = i[0:-4]+'_output_report.csv'\n",
    "        print(output_name)"
   ]
  },
  {
   "cell_type": "code",
   "execution_count": 16,
   "id": "443177b8",
   "metadata": {},
   "outputs": [],
   "source": [
    "result.to_csv(output_name)"
   ]
  },
  {
   "cell_type": "code",
   "execution_count": null,
   "id": "9fb3f3ce",
   "metadata": {},
   "outputs": [],
   "source": []
  }
 ],
 "metadata": {
  "kernelspec": {
   "display_name": "Python 3 (ipykernel)",
   "language": "python",
   "name": "python3"
  },
  "language_info": {
   "codemirror_mode": {
    "name": "ipython",
    "version": 3
   },
   "file_extension": ".py",
   "mimetype": "text/x-python",
   "name": "python",
   "nbconvert_exporter": "python",
   "pygments_lexer": "ipython3",
   "version": "3.6.0"
  }
 },
 "nbformat": 4,
 "nbformat_minor": 5
}
